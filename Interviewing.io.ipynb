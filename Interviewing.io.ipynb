{
 "cells": [
  {
   "cell_type": "markdown",
   "metadata": {},
   "source": [
    "<b><u>A>>Google Interview on javascript</u></b><br/>\n",
    "Write a function that takes two strings, s1 and s2<br/>\n",
    "and returns the longest common subsequence of s1 and s2<br/>\n",
    "\n",
    "<u>eg:</u><br/>\n",
    "1. \"ABAZDC\" \"BACBAD\" => \"ABAD\"<br/>\n",
    "2. \"AGGTAB\" \"GXTXAYB\" => \"GTAB\"<br/>\n",
    "3. \"aaaaa\" \"aa\" => \"aa\"<br/>\n",
    "4. \"\",\"...\" => \"\"<br/>\n",
    "5. \"ABBA\",\"ABCABA\" => \"ABBA\"<br/>\n",
    "\n",
    "My approach:<br/>\n",
    "Step 1: Taking 1., first get indices of all unique chars in the string<br/>\n",
    "Step 2: Next, subset the strings with the intersect of the two index sets<br/>\n",
    "Step 3: Next, construct two sequences from the indices<br/>\n",
    "Step 4: Next, taking the shorter one, iterate through each char in shorter one comparing the<br/>\n",
    "$\\hspace{1.2cm}$ char in longer one. If not available at the instance, delete whats there and check again<br/>\n",
    "Step 5: Resulting string from the longer one is the subsequence<br/>\n",
    "\n",
    "<b>Assumption:<br/>\n",
    "Algorithm is case-sensitive!!!</b><br>\n",
    "<br/>\n",
    "<b><u>Some helpful tips:</u><br/>\n",
    "    1. Dont worry about the performance at first, just come up with the simplest, most naive approach at first. If you have time, optimize it later.\n",
    "    2. Come up with more test cases if you like.\n",
    "    3. Its helpful to write out your algorithm in pseudocode or in english in the comments/docstring before you start coding. People who do that usually do better.\n",
    "    4. Lastly as much as possible say what you are thinking while you are working on the problem, cause its helpful for you to know how you are approaching the problem and not just seeing/writing the code.\n",
    "</b>"
   ]
  },
  {
   "cell_type": "code",
   "execution_count": 38,
   "metadata": {},
   "outputs": [
    {
     "data": {
      "text/plain": [
       "'GTAB'"
      ]
     },
     "execution_count": 38,
     "metadata": {},
     "output_type": "execute_result"
    }
   ],
   "source": [
    "def return_seq_per_pat(s,intr):\n",
    "    seq = \"\"\n",
    "    for i in s:\n",
    "        if i in intr:\n",
    "            seq = seq + i\n",
    "    return seq\n",
    "\n",
    "def return_subseq(s1,s2):\n",
    "    s1_l = list(s1)\n",
    "    s2_l = list(s2)\n",
    "    intr = set(s1_l).intersection(set(s2_l))\n",
    "    seq_s1,seq_s2 = return_seq_per_pat(s1_l,intr),return_seq_per_pat(s2_l,intr)\n",
    "    if len(seq_s1) > len(seq_s2):\n",
    "        fr = seq_s2\n",
    "        fo = seq_s1\n",
    "    else:\n",
    "        fr = seq_s1\n",
    "        fo = seq_s2\n",
    "    del(seq_s1,seq_s2,s1_l,s2_l)\n",
    "    substr = []\n",
    "    subst = \"\"\n",
    "    last_idx_fo = 0\n",
    "    for char in fr:\n",
    "        for j in range(last_idx_fo,len(fo)):\n",
    "            if char == fo[j]:\n",
    "                last_idx_fo = j+1\n",
    "                subst = subst + char\n",
    "                break\n",
    "        #print(last_idx_fo)\n",
    "        substr.append(subst)\n",
    "    return max(substr) if len(substr) > 0 else \"\"\n",
    "#Testing!!!\n",
    "s1 = \"AGGTAB\"\n",
    "s2 = \"GXTXAYB\"\n",
    "return_subseq(s1,s2)"
   ]
  },
  {
   "cell_type": "markdown",
   "metadata": {},
   "source": [
    "<b><u>B>>Airbnb Interview on Python3</u></b><br/>\n",
    "<u>Part I - Warm up:</u><br/>\n",
    "Write a function that reverses a string<br/>\n"
   ]
  },
  {
   "cell_type": "code",
   "execution_count": 29,
   "metadata": {},
   "outputs": [
    {
     "data": {
      "text/plain": [
       "'_Bn BriA '"
      ]
     },
     "execution_count": 29,
     "metadata": {},
     "output_type": "execute_result"
    }
   ],
   "source": [
    "def reverse_string(inp):\n",
    "    return \"\".join([inp[i] for i in range(len(inp)-1,-1,-1)])\n",
    "#Testing!!!\n",
    "reverse_string(\" AirB nB_\")"
   ]
  },
  {
   "cell_type": "markdown",
   "metadata": {},
   "source": [
    "Some Take-aways/Optimization:<br/>\n",
    "1. No way to do it in O(1) in Python because strings are immutable!\n",
    "2. O(n) be the best"
   ]
  },
  {
   "cell_type": "markdown",
   "metadata": {},
   "source": [
    "<u>Part II - Find Missing Items</u><br/>\n",
    "Transcript: \"I want you to write a function and your function is gonna be called 'find_missing'.<br/>\n",
    "and its gonna take two arguments; the first argument is gonna be an array that has some elements in<br/> it so lets fix in some numbers; you can assume they are all unique (ids) just to probably<br/> make it simpler; and its gonna take a second array that is gonna contain the elements in the first array but with one element missing; and what I want this function to return is the missing element which in this case is 5\"<br/>\n",
    "Screen: [4, 12, 9, 5, 6]<br/>\n",
    "$\\hspace{1.3cm}$ [4, 9, 12, 6]<br/>\n",
    "$\\hspace{1.3cm}$==> 5\n"
   ]
  },
  {
   "cell_type": "code",
   "execution_count": 37,
   "metadata": {},
   "outputs": [
    {
     "data": {
      "text/plain": [
       "[set(), {5}, {4, 5, 6, 9, 12}, set()]"
      ]
     },
     "execution_count": 37,
     "metadata": {},
     "output_type": "execute_result"
    }
   ],
   "source": [
    "def find_missing(inp1,inp2):\n",
    "    return set(inp1).difference(set(inp2))\n",
    "#Testing!!!\n",
    "[find_missing([4,12,9,5,6],[4,9,12,6,5]),find_missing([4,12,9,5,6],[4,9,12,6]),\n",
    "find_missing([4,12,9,5,6],[]),find_missing([],[])]"
   ]
  },
  {
   "cell_type": "markdown",
   "metadata": {},
   "source": [
    "Some Take-aways/Optimization:<br/>\n",
    "1. Generating sets from arrays requires hashing and is O(n)+O(m) so linear.\n",
    "2. No way to better than linear time\n",
    "3. Space can better: sort both in place (heapsort-O(1)space) then walk through both until inequality"
   ]
  },
  {
   "cell_type": "code",
   "execution_count": 44,
   "metadata": {},
   "outputs": [
    {
     "data": {
      "text/plain": [
       "5"
      ]
     },
     "execution_count": 44,
     "metadata": {},
     "output_type": "execute_result"
    }
   ],
   "source": [
    "def find_missing_sum(inp1,inp2):\n",
    "    return sum(inp1)-sum(inp2)\n",
    "#Another approach I think would work if ids are pos.numeric unique with one missing \n",
    "#is to sum them and subtract\n",
    "find_missing_sum([4, 12, 9, 5, 6],[4, 9, 12, 6])"
   ]
  },
  {
   "cell_type": "markdown",
   "metadata": {},
   "source": [
    "<b><u>C>>Microsoft Interview on Go</u></b><br/>\n",
    "Write a function that takes a list of tuples, a point/vertex tuple and an integer k;<br/> take this list of points in the graph and find the k closest to the vertex<br/>\n",
    "Clarification:<br/>\n",
    "Interviewee: What would you define as closest?<br/>\n",
    "Interviewer: Min. Euclidean distance."
   ]
  },
  {
   "cell_type": "code",
   "execution_count": 82,
   "metadata": {},
   "outputs": [],
   "source": [
    "def get_distance(p1,p2):\n",
    "    return (p1[0] - p2[0])**2 + (p1[1] - p2[1])**2\n",
    "def get_nearest_k(points, vertex, k):\n",
    "    heap = []\n",
    "    for idx,pt in enumerate(points):\n",
    "        for j in range(min(k,max(idx,1))):\n",
    "            #print(idx,j,pt,get_distance(pt,vertex))\n",
    "            if idx > 0 and get_distance(pt,vertex) <= get_distance(heap[j],vertex):\n",
    "                heap.insert(j,pt)\n",
    "                break\n",
    "            elif j == min(k,max(idx,1))-1:\n",
    "                heap.append(pt)\n",
    "                break\n",
    "            else:\n",
    "                continue\n",
    "    return heap[:k]"
   ]
  },
  {
   "cell_type": "code",
   "execution_count": 93,
   "metadata": {},
   "outputs": [
    {
     "data": {
      "text/plain": [
       "([[0, 0], [1, 2], [2, 3]], [[2, 3], [1, 2]])"
      ]
     },
     "execution_count": 93,
     "metadata": {},
     "output_type": "execute_result"
    }
   ],
   "source": [
    "#Testing sort!!!, Testing min k!!!\n",
    "get_nearest_k([[1,2],[0,0],[2,3]],[1,0],3),get_nearest_k([[1,2],[0,0],[2,3]],[5,5],2)"
   ]
  },
  {
   "cell_type": "markdown",
   "metadata": {},
   "source": [
    "Some Take-aways/Optimization:<br/>\n",
    "1. GO implements priority queue via the heap interface already, so in GO, the implementation comes down to controlling the push of k elements in the heap tree, and popping out the largest one in the heap before pushing the new, smaller one. This new smaller one if minima, will be queued to the root in the heap tree in GO already due to the heap interface implemented.\n",
    "2. Map-Reduce can be used here for larger sizes (terabytes) of inp list?\n",
    "3. The heapification due to interface in GO helps achieve the time complexity of O(Nlnk), my approach on a regular list has a time complexity of O(Nk)"
   ]
  },
  {
   "cell_type": "markdown",
   "metadata": {},
   "source": [
    "<b>D>>NTUC Link Codity test on Python3</b><br/>\n",
    "Given a big-endian binary string, count the number of steps needed to<br/>\n",
    "reduce the number to 0 using:<br/>\n",
    "/2 if num is even<br/>\n",
    "-1 if num is odd<br/>\n",
    "The string may have zero padding appended!"
   ]
  },
  {
   "cell_type": "code",
   "execution_count": 9,
   "metadata": {},
   "outputs": [
    {
     "data": {
      "text/plain": [
       "19"
      ]
     },
     "execution_count": 9,
     "metadata": {},
     "output_type": "execute_result"
    }
   ],
   "source": [
    "def solution(S):\n",
    "    # write your code in Python 3.6\n",
    "    N = len(S)-1\n",
    "    counter = 0\n",
    "    S_rev = \"\".join([S[i] for i in range(N,-1,-1)])\n",
    "    #print(S_rev)\n",
    "    num = 0\n",
    "    for i in range(N):\n",
    "        if S_rev[i] == '1':\n",
    "            num = num + 2**i\n",
    "    #print(num)\n",
    "    while num != 0:\n",
    "        counter = counter + 1\n",
    "        if num % 2 == 0:\n",
    "            num = num/2\n",
    "        else:\n",
    "            num = num - 1\n",
    "    return counter\n",
    "#Testing!!!\n",
    "solution('0000000000000000000101011110101')"
   ]
  },
  {
   "cell_type": "markdown",
   "metadata": {},
   "source": [
    "<b><u>E>>Google Interview on javascript</u></b><br/>\n",
    "Write a function that takes two strings as arguments, s and p<br/>\n",
    "and returns a boolean denoting whether s matches p<br/>\n",
    "p is a sequence of any of the following:<br/>\n",
    "1. a-z - which stands for itself\n",
    "2. . - which matches any character\n",
    "3. \\* - which matches 0 or more occurences of the previous single character<br/>\n",
    "\n",
    "<u>Some Examples:<br/></u>\n",
    "1. s = \"aba\", p = \"ab\" => False\n",
    "2. s = \"aa\", p = \"a*\" => True\n",
    "3. s = \"ab\", p = \".*\" => True\n",
    "4. s = \"ab\", p = \".\" => False - matches a single character and s has 2\n",
    "5. s = \"aab\", p = \"c\\*a\\*b\" => True - 0c's and 2a's followed by a b \n",
    "6. s = \"aaa\", p = \"a*.\" => True - any number of a's followed by a character, also an a\n",
    "\n",
    "My approach:<br/>\n",
    "So p is the pattern and s is the string that you are running against that pattern.<br/>\n",
    "Start with the 3 different conditions given in the explanation<br/><br/>\n",
    "First, I feel there is a natural ordering of pattern checks\n",
    "\n",
    "\n",
    "<b>Assumption:<br/>\n",
    "Algorithm is case-sensitive!!!</b><br>\n",
    "<br/>\n",
    "<b><u>Some helpful tips:</u><br/>\n",
    "    1. Dont worry about the performance at first, just come up with the simplest, most naive solution you can think of. If you have time, optimize it later.\n",
    "    2. Its helpful to write out your algorithm in pseudocode or in english in the comments/docstring before you start coding. Helps you seperate out the problem solving part from the details of how to write the code. People who do that usually do better.\n",
    "    3. Come up with more test cases if you like since the above is just a small number of them.\n",
    "    4. Lastly as much as possible say what you are thinking while you are working on the problem, cause its helpful for you to know how you are approaching the problem and not just seeing/writing the code.\n",
    "</b>"
   ]
  },
  {
   "cell_type": "code",
   "execution_count": 7,
   "metadata": {},
   "outputs": [
    {
     "data": {
      "text/plain": [
       "True"
      ]
     },
     "execution_count": 7,
     "metadata": {},
     "output_type": "execute_result"
    }
   ],
   "source": [
    "def regex_matcher(s,p):\n",
    "    alphabets = [chr(i) for i in range(ord('a'),ord('z')+1)]\n",
    "    _p = \"\"\n",
    "    ok = 1\n",
    "    for i in range(len(p)):\n",
    "        if p[i] == \"*\" and p[i-1] == \".\":\n",
    "            _s = s[:i]\n",
    "            #print(\"here\")\n",
    "            for j in range(len(_p)):\n",
    "                if _p[j] in alphabets:\n",
    "                    if _s[j] == _p[j]:\n",
    "                        ok = 1\n",
    "                    else:\n",
    "                        ok = 0\n",
    "                elif _p[j] == \".\":\n",
    "                    ok = 1\n",
    "                else:\n",
    "                    ok = 0\n",
    "            _p = \"\"\n",
    "        elif p[i] == \"*\" and p[i-1] != \".\":\n",
    "            _s = s\n",
    "            for j in range(len(_p)):\n",
    "                if _p[j] in alphabets:\n",
    "                    if _s[j] == _p[j]:\n",
    "                        ok = 1\n",
    "                    else:\n",
    "                        \n",
    "                elif _p[j] == \".\":\n",
    "                    ok = 1\n",
    "                else:\n",
    "                    ok = 0\n",
    "        elif i == len(p)-1:\n",
    "            #print(\"here\")\n",
    "            _p = _p + p[i]\n",
    "            _s = s[len(s)-len(_p):]\n",
    "            #print(_s,_p)\n",
    "            for j in range(len(_p)):\n",
    "                if _p[j] in alphabets:\n",
    "                    if _s[j] == _p[j]:\n",
    "                        ok = 1\n",
    "                    else:\n",
    "                        ok = 0\n",
    "                elif _p[j] == \".\":\n",
    "                    ok = 1\n",
    "                else:\n",
    "                    ok = 0\n",
    "            _p = \"\"\n",
    "        \n",
    "        else:\n",
    "            _p = _p + p[i]\n",
    "    return bool(ok)\n",
    "regex_matcher(\"zabfpdab\",\"z*b\")"
   ]
  },
  {
   "cell_type": "markdown",
   "metadata": {},
   "source": [
    "<b><u>F>>Google Interview on Python 2</u></b><br/>\n",
    "Let me know if you have seen this question before.<brr/>\n",
    "The idea is that you are going to be given a \"dictionary\" of words. These are not english words; they are words of some magical other language that orders their letters differently than we do<br/>\n",
    "So you are trying to deduce what the order of their letters are in their language given that you are being given a \"list\" of words that are sorted alphabetically in them<br/>\n",
    "Eg:<br/>\n",
    "Alphabet : b f g q<br/>\n",
    "List of words: These words are sorted in this magical language<br/>\n",
    "$\\hspace{5mm}$bgg<br/>\n",
    "$\\hspace{5mm}$fbq<br/>\n",
    "$\\hspace{5mm}$fqf<br/>\n",
    "$\\hspace{5mm}$ffq<br/>\n",
    "$\\hspace{5mm}$gfg<br/>\n",
    "\n",
    "Ok sooooooooo.<br/>\n",
    "There are a couple of different parts to this question<br/>\n",
    "So the kind of things that you can tell from this list is if you look at the first words: b < f < g (comes before / order)<br/>\n",
    "After that, it gets a little bit tougher. Like you need to figure out where does the q go? And you can se for example that fbq comes before fqf and that kind of gives you some hint about \"compared to others\".<br/><br/>\n",
    "So first step is that I want you to build a graph that has these relations in it.<br/>\n",
    "So essentially, the graph will have nodes where the nodes will just point to another node that it is in front of.<br/><br/>\n",
    "Lets say we have a class G for graph:<br/>\n",
    "it has methods like add(self, c1, c2): c1 and c2 are the letters<br/>\n",
    "basically this is an edge; so you can remove that edge: remove(self, c1, c2)<br/>\n",
    "outgoing(self, c): so thats like all the outgoing edges from a given node and<br/>\n",
    "incoming(self, c)<br/>\n",
    "so can you start by coding up something that will make this graph and encode all the relationships between the letters\n",
    "\n",
    "<b><u>Some helpful tips:</u><br/>\n",
    "    1. Dont worry about the performance at first, just come up with the simplest, most naive solution you can think of. If you have time, optimize it later.\n",
    "    2. Its helpful to write out your algorithm in pseudocode or in english in the comments/docstring before you start coding. Helps you seperate out the problem solving part from the details of how to write the code. People who do that usually do better.\n",
    "    3. Come up with more test cases if you like since the above is just a small number of them.\n",
    "    4. Lastly as much as possible say what you are thinking while you are working on the problem, cause its helpful for you to know how you are approaching the problem and not just seeing/writing the code.\n",
    "</b>"
   ]
  },
  {
   "cell_type": "code",
   "execution_count": 27,
   "metadata": {},
   "outputs": [],
   "source": [
    "lst = [\"bgg\",\"fbq\",\"fqf\",\"ffq\",\"gfg\"]\n",
    "class G(object):\n",
    "    def __init__(self,lst):\n",
    "        idx = 0\n",
    "        if lst.__len__() > 0:\n",
    "            self.dictionary = lst\n",
    "            self.graph = []\n",
    "            ltr_list = list(set([letter for word in self.dictionary for letter in word]))\n",
    "            for word in lst:\n",
    "                ref = set([letter for letter in word])\n",
    "                if ref.intersection(set(self.graph)).__len__() >= ref.__len__():#word adds no information\n",
    "                    continue\n",
    "                else:\n",
    "                    for letter in ref:\n",
    "                        if letter in self.graph:\n",
    "                            idx = self.graph.index(letter)\n",
    "                        else:\n",
    "                            self.graph.insert(idx+1,letter)\n",
    "        else:\n",
    "            return \"error\"\n",
    "        \n",
    "    \n",
    "    def add(self,c1,c2):\n",
    "        ltr_list = set([letter for word in self.dictionary for letter in word])\n",
    "        if c1 not in ltr_list or c2 not in ltr_list:\n",
    "            return \"error\""
   ]
  },
  {
   "cell_type": "code",
   "execution_count": 29,
   "metadata": {},
   "outputs": [
    {
     "data": {
      "text/plain": [
       "['g', 'b', 'q', 'f']"
      ]
     },
     "execution_count": 29,
     "metadata": {},
     "output_type": "execute_result"
    }
   ],
   "source": [
    "G(lst).graph"
   ]
  }
 ],
 "metadata": {
  "kernelspec": {
   "display_name": "Python 3",
   "language": "python",
   "name": "python3"
  },
  "language_info": {
   "codemirror_mode": {
    "name": "ipython",
    "version": 3
   },
   "file_extension": ".py",
   "mimetype": "text/x-python",
   "name": "python",
   "nbconvert_exporter": "python",
   "pygments_lexer": "ipython3",
   "version": "3.7.0"
  }
 },
 "nbformat": 4,
 "nbformat_minor": 2
}
