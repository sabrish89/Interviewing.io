{
 "cells": [
  {
   "cell_type": "markdown",
   "metadata": {},
   "source": [
    "<b><u>A>>Google Interview on javascript</u></b><br/>\n",
    "Write a function that takes two strings, s1 and s2<br/>\n",
    "and returns the longest common subsequence of s1 and s2<br/>\n",
    "\n",
    "<u>eg:</u><br/>\n",
    "1. \"ABAZDC\" \"BACBAD\" => \"ABAD\"<br/>\n",
    "2. \"AGGTAB\" \"GXTXAYB\" => \"GTAB\"<br/>\n",
    "3. \"aaaaa\" \"aa\" => \"aa\"<br/>\n",
    "4. \"\",\"...\" => \"\"<br/>\n",
    "5. \"ABBA\",\"ABCABA\" => \"ABBA\"<br/>\n",
    "\n",
    "My approach:<br/>\n",
    "Step 1: Taking 1., first get indices of all unique chars in the string<br/>\n",
    "Step 2: Next, subset the strings with the intersect of the two index sets<br/>\n",
    "Step 3: Next, construct two sequences from the indices<br/>\n",
    "Step 4: Next, taking the shorter one, iterate through each char in shorter one comparing the<br/>\n",
    "$\\hspace{1.2cm}$ char in longer one. If not available at the instance, delete whats there and check again<br/>\n",
    "Step 5: Resulting string from the longer one is the subsequence<br/>\n",
    "\n",
    "<b>Assumption:<br/>\n",
    "Algorithm is case-sensitive!!!</b><br>\n",
    "<br/>\n",
    "<b><u>Some helpful tips:</u><br/>\n",
    "    1. Dont worry about the performance at first, just come up with the simplest, most naive approach at first. If you have time, optimize it later.\n",
    "    2. Come up with more test cases if you like.\n",
    "    3. Its helpful to write out your algorithm in pseudocode or in english in the comments/docstring before you start coding. People who do that usually do better.\n",
    "    4. Lastly as much as possible say what you are thinking while you are working on the problem, cause its helpful for you to know how you are approaching the problem and not just seeing/writing the code.\n",
    "</b>"
   ]
  },
  {
   "cell_type": "code",
   "execution_count": 38,
   "metadata": {},
   "outputs": [
    {
     "data": {
      "text/plain": [
       "'GTAB'"
      ]
     },
     "execution_count": 38,
     "metadata": {},
     "output_type": "execute_result"
    }
   ],
   "source": [
    "def return_seq_per_pat(s,intr):\n",
    "    seq = \"\"\n",
    "    for i in s:\n",
    "        if i in intr:\n",
    "            seq = seq + i\n",
    "    return seq\n",
    "\n",
    "def return_subseq(s1,s2):\n",
    "    s1_l = list(s1)\n",
    "    s2_l = list(s2)\n",
    "    intr = set(s1_l).intersection(set(s2_l))\n",
    "    seq_s1,seq_s2 = return_seq_per_pat(s1_l,intr),return_seq_per_pat(s2_l,intr)\n",
    "    if len(seq_s1) > len(seq_s2):\n",
    "        fr = seq_s2\n",
    "        fo = seq_s1\n",
    "    else:\n",
    "        fr = seq_s1\n",
    "        fo = seq_s2\n",
    "    del(seq_s1,seq_s2,s1_l,s2_l)\n",
    "    substr = []\n",
    "    subst = \"\"\n",
    "    last_idx_fo = 0\n",
    "    for char in fr:\n",
    "        for j in range(last_idx_fo,len(fo)):\n",
    "            if char == fo[j]:\n",
    "                last_idx_fo = j+1\n",
    "                subst = subst + char\n",
    "                break\n",
    "        #print(last_idx_fo)\n",
    "        substr.append(subst)\n",
    "    return max(substr) if len(substr) > 0 else \"\"\n",
    "#Testing!!!\n",
    "s1 = \"AGGTAB\"\n",
    "s2 = \"GXTXAYB\"\n",
    "return_subseq(s1,s2)"
   ]
  },
  {
   "cell_type": "markdown",
   "metadata": {},
   "source": [
    "<b><u>B>>Airbnb Interview on Python3</u></b><br/>\n",
    "<u>Part I - Warm up:</u><br/>\n",
    "Write a function that reverses a string<br/>\n"
   ]
  },
  {
   "cell_type": "code",
   "execution_count": 29,
   "metadata": {},
   "outputs": [
    {
     "data": {
      "text/plain": [
       "'_Bn BriA '"
      ]
     },
     "execution_count": 29,
     "metadata": {},
     "output_type": "execute_result"
    }
   ],
   "source": [
    "def reverse_string(inp):\n",
    "    return \"\".join([inp[i] for i in range(len(inp)-1,-1,-1)])\n",
    "#Testing!!!\n",
    "reverse_string(\" AirB nB_\")"
   ]
  },
  {
   "cell_type": "markdown",
   "metadata": {},
   "source": [
    "Some Take-aways/Optimization:<br/>\n",
    "1. No way to do it in O(1) in Python because strings are immutable!\n",
    "2. O(n) be the best"
   ]
  },
  {
   "cell_type": "markdown",
   "metadata": {},
   "source": [
    "<u>Part II - Find Missing Items</u><br/>\n",
    "Transcript: \"I want you to write a function and your function is gonna be called 'find_missing'.<br/>\n",
    "and its gonna take two arguments; the first argument is gonna be an array that has some elements in<br/> it so lets fix in some numbers; you can assume they are all unique (ids) just to probably<br/> make it simpler; and its gonna take a second array that is gonna contain the elements in the first array but with one element missing; and what I want this function to return is the missing element which in this case is 5\"<br/>\n",
    "Screen: [4, 12, 9, 5, 6]<br/>\n",
    "$\\hspace{1.3cm}$ [4, 9, 12, 6]<br/>\n",
    "$\\hspace{1.3cm}$==> 5\n"
   ]
  },
  {
   "cell_type": "code",
   "execution_count": 37,
   "metadata": {},
   "outputs": [
    {
     "data": {
      "text/plain": [
       "[set(), {5}, {4, 5, 6, 9, 12}, set()]"
      ]
     },
     "execution_count": 37,
     "metadata": {},
     "output_type": "execute_result"
    }
   ],
   "source": [
    "def find_missing(inp1,inp2):\n",
    "    return set(inp1).difference(set(inp2))\n",
    "#Testing!!!\n",
    "[find_missing([4,12,9,5,6],[4,9,12,6,5]),find_missing([4,12,9,5,6],[4,9,12,6]),\n",
    "find_missing([4,12,9,5,6],[]),find_missing([],[])]"
   ]
  },
  {
   "cell_type": "markdown",
   "metadata": {},
   "source": [
    "Some Take-aways/Optimization:<br/>\n",
    "1. Generating sets from arrays requires hashing and is O(n)+O(m) so linear.\n",
    "2. No way to better than linear time\n",
    "3. Space can better: sort both in place (heapsort-O(1)space) then walk through both until inequality"
   ]
  },
  {
   "cell_type": "code",
   "execution_count": 44,
   "metadata": {},
   "outputs": [
    {
     "data": {
      "text/plain": [
       "5"
      ]
     },
     "execution_count": 44,
     "metadata": {},
     "output_type": "execute_result"
    }
   ],
   "source": [
    "def find_missing_sum(inp1,inp2):\n",
    "    return sum(inp1)-sum(inp2)\n",
    "#Another approach I think would work if ids are pos.numeric unique with one missing \n",
    "#is to sum them and subtract\n",
    "find_missing_sum([4, 12, 9, 5, 6],[4, 9, 12, 6])"
   ]
  },
  {
   "cell_type": "markdown",
   "metadata": {},
   "source": [
    "<b><u>A>>Microsoft Interview on Go</u></b><br/>\n",
    "Write a function that takes a list of tuples, a point/vertex tuple and an integer k;<br/> take this list of points in the graph and find the k closest to the vertex<br/>\n",
    "Clarification:<br/>\n",
    "Interviewee: What would you define as closest?<br/>\n",
    "Interviewer: Min. Euclidean distance."
   ]
  },
  {
   "cell_type": "code",
   "execution_count": 82,
   "metadata": {},
   "outputs": [],
   "source": [
    "def get_distance(p1,p2):\n",
    "    return (p1[0] - p2[0])**2 + (p1[1] - p2[1])**2\n",
    "def get_nearest_k(points, vertex, k):\n",
    "    heap = []\n",
    "    for idx,pt in enumerate(points):\n",
    "        for j in range(min(k,max(idx,1))):\n",
    "            #print(idx,j,pt,get_distance(pt,vertex))\n",
    "            if idx > 0 and get_distance(pt,vertex) <= get_distance(heap[j],vertex):\n",
    "                heap.insert(j,pt)\n",
    "                break\n",
    "            elif j == min(k,max(idx,1))-1:\n",
    "                heap.append(pt)\n",
    "                break\n",
    "            else:\n",
    "                continue\n",
    "    return heap[:k]"
   ]
  },
  {
   "cell_type": "code",
   "execution_count": 93,
   "metadata": {},
   "outputs": [
    {
     "data": {
      "text/plain": [
       "([[0, 0], [1, 2], [2, 3]], [[2, 3], [1, 2]])"
      ]
     },
     "execution_count": 93,
     "metadata": {},
     "output_type": "execute_result"
    }
   ],
   "source": [
    "#Testing sort!!!, Testing min k!!!\n",
    "get_nearest_k([[1,2],[0,0],[2,3]],[1,0],3),get_nearest_k([[1,2],[0,0],[2,3]],[5,5],2)"
   ]
  },
  {
   "cell_type": "markdown",
   "metadata": {},
   "source": [
    "Some Take-aways/Optimization:<br/>\n",
    "1. GO implements priority queue via the heap interface already, so in GO, the implementation comes down to controlling the push of k elements in the heap tree, and popping out the largest one in the heap before pushing the new, smaller one. This new smaller one if minima, will be queued to the root in the heap tree in GO already due to the heap interface implemented.\n",
    "2. Map-Reduce can be used here for larger sizes (terabytes) of inp list?\n",
    "3. The heapification due to interface in GO helps achieve the time complexity of O(Nlnk), my approach on a regular list has a time complexity of O(Nk)"
   ]
  }
 ],
 "metadata": {
  "kernelspec": {
   "display_name": "Python 3",
   "language": "python",
   "name": "python3"
  },
  "language_info": {
   "codemirror_mode": {
    "name": "ipython",
    "version": 3
   },
   "file_extension": ".py",
   "mimetype": "text/x-python",
   "name": "python",
   "nbconvert_exporter": "python",
   "pygments_lexer": "ipython3",
   "version": "3.7.0"
  }
 },
 "nbformat": 4,
 "nbformat_minor": 2
}
